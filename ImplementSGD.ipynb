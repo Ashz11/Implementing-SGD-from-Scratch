{
 "cells": [
  {
   "cell_type": "markdown",
   "metadata": {},
   "source": [
    "# Implementing SGD from Scratch"
   ]
  },
  {
   "cell_type": "markdown",
   "metadata": {},
   "source": [
    "### 1. Importing and Loading Dataset"
   ]
  },
  {
   "cell_type": "code",
   "execution_count": 1,
   "metadata": {
    "colab": {},
    "colab_type": "code",
    "id": "REYPoTJ1Af7u"
   },
   "outputs": [],
   "source": [
    "import warnings\n",
    "warnings.filterwarnings(\"ignore\")\n",
    "from sklearn.datasets import load_boston\n",
    "from random import seed\n",
    "from random import randrange\n",
    "from csv import reader\n",
    "from math import sqrt\n",
    "from sklearn import preprocessing\n",
    "import pandas as pd\n",
    "import numpy as np\n",
    "import matplotlib.pyplot as plt\n",
    "from prettytable import PrettyTable\n",
    "from sklearn.linear_model import SGDRegressor\n",
    "from sklearn import preprocessing\n",
    "from sklearn.metrics import mean_squared_error\n",
    "import seaborn as sns"
   ]
  },
  {
   "cell_type": "code",
   "execution_count": 2,
   "metadata": {
    "colab": {},
    "colab_type": "code",
    "id": "NTQ2iH-kAwbo"
   },
   "outputs": [],
   "source": [
    "X = load_boston().data\n",
    "Y = load_boston().target"
   ]
  },
  {
   "cell_type": "markdown",
   "metadata": {},
   "source": [
    "### 2. Splitting and Scaling the data"
   ]
  },
  {
   "cell_type": "code",
   "execution_count": 3,
   "metadata": {},
   "outputs": [
    {
     "name": "stdout",
     "output_type": "stream",
     "text": [
      "(404, 13)\n",
      "(102, 13)\n",
      "(404,)\n",
      "(102,)\n"
     ]
    }
   ],
   "source": [
    "import sklearn\n",
    "X_train, X_test, Y_train, Y_test = sklearn.model_selection.train_test_split(X, Y, test_size = 0.20, random_state = 5)\n",
    "print(X_train.shape)\n",
    "print(X_test.shape)\n",
    "print(Y_train.shape)\n",
    "print(Y_test.shape)"
   ]
  },
  {
   "cell_type": "code",
   "execution_count": 4,
   "metadata": {
    "colab": {},
    "colab_type": "code",
    "id": "FgUW39s6Be0U"
   },
   "outputs": [],
   "source": [
    "scaler = preprocessing.StandardScaler().fit(X_train)\n",
    "X_train = scaler.transform(X_train)\n",
    "X_test = scaler.transform(X_test)\n"
   ]
  },
  {
   "cell_type": "code",
   "execution_count": 5,
   "metadata": {},
   "outputs": [
    {
     "data": {
      "text/plain": [
       "(404, 13)"
      ]
     },
     "execution_count": 5,
     "metadata": {},
     "output_type": "execute_result"
    }
   ],
   "source": [
    "X_train.shape"
   ]
  },
  {
   "cell_type": "code",
   "execution_count": 6,
   "metadata": {
    "scrolled": false
   },
   "outputs": [
    {
     "data": {
      "text/plain": [
       "(404, 1)"
      ]
     },
     "execution_count": 6,
     "metadata": {},
     "output_type": "execute_result"
    }
   ],
   "source": [
    "Y_train = Y_train.reshape(-1,1)\n",
    "Y_train.shape"
   ]
  },
  {
   "cell_type": "markdown",
   "metadata": {},
   "source": []
  },
  {
   "cell_type": "code",
   "execution_count": 7,
   "metadata": {},
   "outputs": [
    {
     "data": {
      "text/html": [
       "<div>\n",
       "<style scoped>\n",
       "    .dataframe tbody tr th:only-of-type {\n",
       "        vertical-align: middle;\n",
       "    }\n",
       "\n",
       "    .dataframe tbody tr th {\n",
       "        vertical-align: top;\n",
       "    }\n",
       "\n",
       "    .dataframe thead th {\n",
       "        text-align: right;\n",
       "    }\n",
       "</style>\n",
       "<table border=\"1\" class=\"dataframe\">\n",
       "  <thead>\n",
       "    <tr style=\"text-align: right;\">\n",
       "      <th></th>\n",
       "      <th>CRIM</th>\n",
       "      <th>ZN</th>\n",
       "      <th>INDUS</th>\n",
       "      <th>CHAS</th>\n",
       "      <th>NOX</th>\n",
       "      <th>RM</th>\n",
       "      <th>AGE</th>\n",
       "      <th>DIS</th>\n",
       "      <th>RAD</th>\n",
       "      <th>TAX</th>\n",
       "      <th>PTRATIO</th>\n",
       "      <th>B</th>\n",
       "      <th>LSTAT</th>\n",
       "      <th>PRICE</th>\n",
       "    </tr>\n",
       "  </thead>\n",
       "  <tbody>\n",
       "    <tr>\n",
       "      <th>0</th>\n",
       "      <td>-0.276470</td>\n",
       "      <td>-0.507766</td>\n",
       "      <td>-0.402012</td>\n",
       "      <td>-0.272888</td>\n",
       "      <td>-0.118484</td>\n",
       "      <td>-0.848834</td>\n",
       "      <td>0.963877</td>\n",
       "      <td>-0.022455</td>\n",
       "      <td>-0.636453</td>\n",
       "      <td>-0.583618</td>\n",
       "      <td>1.175619</td>\n",
       "      <td>-0.000302</td>\n",
       "      <td>0.835288</td>\n",
       "      <td>[13.1]</td>\n",
       "    </tr>\n",
       "    <tr>\n",
       "      <th>1</th>\n",
       "      <td>-0.407464</td>\n",
       "      <td>3.331365</td>\n",
       "      <td>-1.431888</td>\n",
       "      <td>3.664502</td>\n",
       "      <td>-1.314148</td>\n",
       "      <td>2.361809</td>\n",
       "      <td>-1.516597</td>\n",
       "      <td>0.999022</td>\n",
       "      <td>-0.981745</td>\n",
       "      <td>-1.231926</td>\n",
       "      <td>-2.202859</td>\n",
       "      <td>0.412907</td>\n",
       "      <td>-1.325495</td>\n",
       "      <td>[50.0]</td>\n",
       "    </tr>\n",
       "    <tr>\n",
       "      <th>2</th>\n",
       "      <td>8.064832</td>\n",
       "      <td>-0.507766</td>\n",
       "      <td>1.078157</td>\n",
       "      <td>-0.272888</td>\n",
       "      <td>1.112090</td>\n",
       "      <td>-0.478931</td>\n",
       "      <td>1.140549</td>\n",
       "      <td>-0.988813</td>\n",
       "      <td>1.665490</td>\n",
       "      <td>1.551633</td>\n",
       "      <td>0.810378</td>\n",
       "      <td>-3.849276</td>\n",
       "      <td>1.158196</td>\n",
       "      <td>[8.8]</td>\n",
       "    </tr>\n",
       "    <tr>\n",
       "      <th>3</th>\n",
       "      <td>-0.403977</td>\n",
       "      <td>-0.507766</td>\n",
       "      <td>0.161225</td>\n",
       "      <td>-0.272888</td>\n",
       "      <td>0.186977</td>\n",
       "      <td>-0.243407</td>\n",
       "      <td>0.317257</td>\n",
       "      <td>-0.752702</td>\n",
       "      <td>-0.981745</td>\n",
       "      <td>-0.785842</td>\n",
       "      <td>1.175619</td>\n",
       "      <td>0.428424</td>\n",
       "      <td>-0.483373</td>\n",
       "      <td>[20.6]</td>\n",
       "    </tr>\n",
       "    <tr>\n",
       "      <th>4</th>\n",
       "      <td>0.696610</td>\n",
       "      <td>-0.507766</td>\n",
       "      <td>1.078157</td>\n",
       "      <td>-0.272888</td>\n",
       "      <td>1.234274</td>\n",
       "      <td>0.166954</td>\n",
       "      <td>1.140549</td>\n",
       "      <td>-1.068474</td>\n",
       "      <td>1.665490</td>\n",
       "      <td>1.551633</td>\n",
       "      <td>0.810378</td>\n",
       "      <td>0.194665</td>\n",
       "      <td>1.114099</td>\n",
       "      <td>[12.1]</td>\n",
       "    </tr>\n",
       "  </tbody>\n",
       "</table>\n",
       "</div>"
      ],
      "text/plain": [
       "       CRIM        ZN     INDUS      CHAS       NOX        RM       AGE  \\\n",
       "0 -0.276470 -0.507766 -0.402012 -0.272888 -0.118484 -0.848834  0.963877   \n",
       "1 -0.407464  3.331365 -1.431888  3.664502 -1.314148  2.361809 -1.516597   \n",
       "2  8.064832 -0.507766  1.078157 -0.272888  1.112090 -0.478931  1.140549   \n",
       "3 -0.403977 -0.507766  0.161225 -0.272888  0.186977 -0.243407  0.317257   \n",
       "4  0.696610 -0.507766  1.078157 -0.272888  1.234274  0.166954  1.140549   \n",
       "\n",
       "        DIS       RAD       TAX   PTRATIO         B     LSTAT   PRICE  \n",
       "0 -0.022455 -0.636453 -0.583618  1.175619 -0.000302  0.835288  [13.1]  \n",
       "1  0.999022 -0.981745 -1.231926 -2.202859  0.412907 -1.325495  [50.0]  \n",
       "2 -0.988813  1.665490  1.551633  0.810378 -3.849276  1.158196   [8.8]  \n",
       "3 -0.752702 -0.981745 -0.785842  1.175619  0.428424 -0.483373  [20.6]  \n",
       "4 -1.068474  1.665490  1.551633  0.810378  0.194665  1.114099  [12.1]  "
      ]
     },
     "execution_count": 7,
     "metadata": {},
     "output_type": "execute_result"
    }
   ],
   "source": [
    "train_df = pd.DataFrame(data = X_train, columns=load_boston().feature_names)\n",
    "train_df['PRICE'] = list(Y_train)\n",
    "\n",
    "test_df = pd.DataFrame(data = X_test, columns=load_boston().feature_names)\n",
    "test_df['PRICE'] = list(Y_test)\n",
    "\n",
    "train_df.head()"
   ]
  },
  {
   "cell_type": "markdown",
   "metadata": {},
   "source": [
    "###  3. Initializing the weight and intercept term and SGD implementation"
   ]
  },
  {
   "cell_type": "code",
   "execution_count": 8,
   "metadata": {
    "scrolled": false
   },
   "outputs": [
    {
     "name": "stdout",
     "output_type": "stream",
     "text": [
      "Epoch: 1, Loss: 148.255\n",
      "Epoch: 2, Loss: 32.273\n",
      "Epoch: 3, Loss: 13.151\n",
      "Epoch: 4, Loss: 11.730\n",
      "Epoch: 5, Loss: 12.866\n",
      "Epoch: 6, Loss: 10.572\n",
      "Epoch: 7, Loss: 15.405\n",
      "Epoch: 8, Loss: 8.142\n",
      "Epoch: 9, Loss: 10.226\n",
      "Epoch: 10, Loss: 14.993\n",
      "Epoch: 11, Loss: 7.326\n",
      "Epoch: 12, Loss: 14.350\n",
      "Epoch: 13, Loss: 10.354\n",
      "Epoch: 14, Loss: 8.095\n",
      "Epoch: 15, Loss: 11.997\n",
      "Epoch: 16, Loss: 9.386\n",
      "Epoch: 17, Loss: 10.968\n",
      "Epoch: 18, Loss: 8.527\n",
      "Epoch: 19, Loss: 10.801\n",
      "Epoch: 20, Loss: 8.220\n",
      "Epoch: 21, Loss: 11.292\n",
      "Epoch: 22, Loss: 7.721\n",
      "Epoch: 23, Loss: 12.604\n",
      "Epoch: 24, Loss: 8.541\n",
      "Epoch: 25, Loss: 7.772\n",
      "Epoch: 26, Loss: 9.620\n",
      "Epoch: 27, Loss: 6.752\n",
      "Epoch: 28, Loss: 9.777\n",
      "Epoch: 29, Loss: 11.827\n",
      "Epoch: 30, Loss: 10.979\n",
      "Epoch: 31, Loss: 10.442\n",
      "Epoch: 32, Loss: 10.097\n",
      "Epoch: 33, Loss: 14.456\n",
      "Epoch: 34, Loss: 15.489\n",
      "Epoch: 35, Loss: 8.226\n",
      "Epoch: 36, Loss: 13.440\n",
      "Epoch: 37, Loss: 8.374\n",
      "Epoch: 38, Loss: 7.965\n",
      "Epoch: 39, Loss: 8.197\n",
      "Epoch: 40, Loss: 7.581\n",
      "Epoch: 41, Loss: 8.189\n",
      "Epoch: 42, Loss: 7.826\n",
      "Epoch: 43, Loss: 12.685\n",
      "Epoch: 44, Loss: 13.962\n",
      "Epoch: 45, Loss: 9.066\n",
      "Epoch: 46, Loss: 6.939\n",
      "Epoch: 47, Loss: 10.416\n",
      "Epoch: 48, Loss: 7.826\n",
      "Epoch: 49, Loss: 12.392\n",
      "Epoch: 50, Loss: 6.820\n",
      "Epoch: 51, Loss: 5.987\n",
      "Epoch: 52, Loss: 8.856\n",
      "Epoch: 53, Loss: 9.214\n",
      "Epoch: 54, Loss: 6.355\n",
      "Epoch: 55, Loss: 9.516\n",
      "Epoch: 56, Loss: 10.065\n",
      "Epoch: 57, Loss: 11.049\n",
      "Epoch: 58, Loss: 9.990\n",
      "Epoch: 59, Loss: 12.400\n",
      "Epoch: 60, Loss: 9.090\n",
      "Epoch: 61, Loss: 7.548\n",
      "Epoch: 62, Loss: 7.286\n",
      "Epoch: 63, Loss: 9.613\n",
      "Epoch: 64, Loss: 9.735\n",
      "Epoch: 65, Loss: 9.989\n",
      "Epoch: 66, Loss: 14.865\n",
      "Epoch: 67, Loss: 9.598\n",
      "Epoch: 68, Loss: 9.045\n",
      "Epoch: 69, Loss: 16.063\n",
      "Epoch: 70, Loss: 10.547\n",
      "Epoch: 71, Loss: 9.613\n",
      "Epoch: 72, Loss: 9.436\n",
      "Epoch: 73, Loss: 10.390\n",
      "Epoch: 74, Loss: 9.237\n",
      "Epoch: 75, Loss: 7.394\n",
      "Epoch: 76, Loss: 9.301\n",
      "Epoch: 77, Loss: 10.115\n",
      "Epoch: 78, Loss: 12.775\n",
      "Epoch: 79, Loss: 12.769\n",
      "Epoch: 80, Loss: 12.975\n",
      "Epoch: 81, Loss: 10.213\n",
      "Epoch: 82, Loss: 10.047\n",
      "Epoch: 83, Loss: 5.699\n",
      "Epoch: 84, Loss: 8.665\n",
      "Epoch: 85, Loss: 7.372\n",
      "Epoch: 86, Loss: 7.851\n",
      "Epoch: 87, Loss: 12.451\n",
      "Epoch: 88, Loss: 10.524\n",
      "Epoch: 89, Loss: 9.545\n",
      "Epoch: 90, Loss: 15.431\n",
      "Epoch: 91, Loss: 9.604\n",
      "Epoch: 92, Loss: 10.350\n",
      "Epoch: 93, Loss: 6.661\n",
      "Epoch: 94, Loss: 7.765\n",
      "Epoch: 95, Loss: 11.616\n",
      "Epoch: 96, Loss: 7.068\n",
      "Epoch: 97, Loss: 6.909\n",
      "Epoch: 98, Loss: 6.839\n",
      "Epoch: 99, Loss: 12.021\n",
      "Epoch: 100, Loss: 10.184\n",
      "Epoch: 101, Loss: 9.014\n",
      "Epoch: 102, Loss: 7.851\n",
      "Epoch: 103, Loss: 15.879\n",
      "Epoch: 104, Loss: 20.638\n",
      "Epoch: 105, Loss: 10.708\n",
      "Epoch: 106, Loss: 9.234\n",
      "Epoch: 107, Loss: 7.244\n",
      "Epoch: 108, Loss: 7.622\n",
      "Epoch: 109, Loss: 6.759\n",
      "Epoch: 110, Loss: 9.717\n",
      "Epoch: 111, Loss: 10.353\n",
      "Epoch: 112, Loss: 6.902\n",
      "Epoch: 113, Loss: 14.916\n",
      "Epoch: 114, Loss: 10.083\n",
      "Epoch: 115, Loss: 8.158\n",
      "Epoch: 116, Loss: 14.039\n",
      "Epoch: 117, Loss: 6.887\n",
      "Epoch: 118, Loss: 5.225\n",
      "Epoch: 119, Loss: 7.439\n",
      "Epoch: 120, Loss: 7.404\n",
      "Epoch: 121, Loss: 13.064\n",
      "Epoch: 122, Loss: 8.669\n",
      "Epoch: 123, Loss: 8.787\n",
      "Epoch: 124, Loss: 10.635\n",
      "Epoch: 125, Loss: 10.125\n",
      "Epoch: 126, Loss: 13.534\n",
      "Epoch: 127, Loss: 6.593\n",
      "Epoch: 128, Loss: 10.263\n",
      "Epoch: 129, Loss: 9.359\n",
      "Epoch: 130, Loss: 7.833\n",
      "Epoch: 131, Loss: 5.852\n",
      "Epoch: 132, Loss: 8.096\n",
      "Epoch: 133, Loss: 11.405\n",
      "Epoch: 134, Loss: 12.639\n",
      "Epoch: 135, Loss: 9.735\n",
      "Epoch: 136, Loss: 13.139\n",
      "Epoch: 137, Loss: 11.161\n",
      "Epoch: 138, Loss: 8.217\n",
      "Epoch: 139, Loss: 13.326\n",
      "Epoch: 140, Loss: 9.830\n",
      "Epoch: 141, Loss: 9.126\n",
      "Epoch: 142, Loss: 11.145\n",
      "Epoch: 143, Loss: 3.655\n",
      "Epoch: 144, Loss: 5.968\n",
      "Epoch: 145, Loss: 9.455\n",
      "Epoch: 146, Loss: 9.732\n",
      "Epoch: 147, Loss: 9.092\n",
      "Epoch: 148, Loss: 6.652\n",
      "Epoch: 149, Loss: 8.716\n",
      "Epoch: 150, Loss: 14.038\n",
      "Epoch: 151, Loss: 6.588\n",
      "Epoch: 152, Loss: 7.663\n",
      "Epoch: 153, Loss: 8.277\n",
      "Epoch: 154, Loss: 9.181\n",
      "Epoch: 155, Loss: 7.656\n",
      "Epoch: 156, Loss: 9.665\n",
      "Epoch: 157, Loss: 16.419\n",
      "Epoch: 158, Loss: 9.294\n",
      "Epoch: 159, Loss: 9.286\n",
      "Epoch: 160, Loss: 7.728\n",
      "Epoch: 161, Loss: 7.952\n",
      "Epoch: 162, Loss: 6.789\n",
      "Epoch: 163, Loss: 12.544\n",
      "Epoch: 164, Loss: 10.465\n",
      "Epoch: 165, Loss: 8.887\n",
      "Epoch: 166, Loss: 6.884\n",
      "Epoch: 167, Loss: 5.925\n",
      "Epoch: 168, Loss: 8.448\n",
      "Epoch: 169, Loss: 12.861\n",
      "Epoch: 170, Loss: 9.054\n",
      "Epoch: 171, Loss: 13.086\n",
      "Epoch: 172, Loss: 15.232\n",
      "Epoch: 173, Loss: 12.849\n",
      "Epoch: 174, Loss: 14.679\n",
      "Epoch: 175, Loss: 13.358\n",
      "Epoch: 176, Loss: 12.058\n",
      "Epoch: 177, Loss: 8.778\n",
      "Epoch: 178, Loss: 11.506\n",
      "Epoch: 179, Loss: 6.188\n",
      "Epoch: 180, Loss: 9.802\n",
      "Epoch: 181, Loss: 9.520\n",
      "Epoch: 182, Loss: 12.332\n",
      "Epoch: 183, Loss: 9.431\n",
      "Epoch: 184, Loss: 6.134\n",
      "Epoch: 185, Loss: 8.729\n",
      "Epoch: 186, Loss: 6.510\n",
      "Epoch: 187, Loss: 7.197\n",
      "Epoch: 188, Loss: 10.440\n",
      "Epoch: 189, Loss: 8.064\n",
      "Epoch: 190, Loss: 9.040\n",
      "Epoch: 191, Loss: 12.903\n",
      "Epoch: 192, Loss: 12.570\n",
      "Epoch: 193, Loss: 12.599\n",
      "Epoch: 194, Loss: 8.496\n",
      "Epoch: 195, Loss: 9.585\n",
      "Epoch: 196, Loss: 7.212\n",
      "Epoch: 197, Loss: 8.075\n",
      "Epoch: 198, Loss: 7.535\n",
      "Epoch: 199, Loss: 14.079\n",
      "Epoch: 200, Loss: 10.591\n",
      "Epoch: 201, Loss: 12.223\n",
      "Epoch: 202, Loss: 13.217\n",
      "Epoch: 203, Loss: 13.215\n",
      "Epoch: 204, Loss: 9.017\n",
      "Epoch: 205, Loss: 8.067\n",
      "Epoch: 206, Loss: 13.609\n",
      "Epoch: 207, Loss: 8.904\n",
      "Epoch: 208, Loss: 9.110\n",
      "Epoch: 209, Loss: 6.515\n",
      "Epoch: 210, Loss: 8.521\n",
      "Epoch: 211, Loss: 11.103\n",
      "Epoch: 212, Loss: 7.133\n",
      "Epoch: 213, Loss: 8.252\n",
      "Epoch: 214, Loss: 10.229\n",
      "Epoch: 215, Loss: 14.465\n",
      "Epoch: 216, Loss: 7.949\n",
      "Epoch: 217, Loss: 11.567\n",
      "Epoch: 218, Loss: 9.228\n",
      "Epoch: 219, Loss: 11.016\n",
      "Epoch: 220, Loss: 8.805\n",
      "Epoch: 221, Loss: 6.580\n",
      "Epoch: 222, Loss: 8.026\n",
      "Epoch: 223, Loss: 6.323\n",
      "Epoch: 224, Loss: 10.350\n",
      "Epoch: 225, Loss: 13.533\n",
      "Epoch: 226, Loss: 12.469\n",
      "Epoch: 227, Loss: 7.409\n",
      "Epoch: 228, Loss: 13.038\n",
      "Epoch: 229, Loss: 6.146\n",
      "Epoch: 230, Loss: 7.628\n",
      "Epoch: 231, Loss: 9.499\n",
      "Epoch: 232, Loss: 13.491\n",
      "Epoch: 233, Loss: 11.443\n",
      "Epoch: 234, Loss: 11.838\n",
      "Epoch: 235, Loss: 13.957\n",
      "Epoch: 236, Loss: 11.271\n",
      "Epoch: 237, Loss: 12.838\n",
      "Epoch: 238, Loss: 13.439\n",
      "Epoch: 239, Loss: 11.616\n",
      "Epoch: 240, Loss: 8.926\n",
      "Epoch: 241, Loss: 10.211\n",
      "Epoch: 242, Loss: 6.775\n",
      "Epoch: 243, Loss: 5.724\n",
      "Epoch: 244, Loss: 7.385\n",
      "Epoch: 245, Loss: 9.990\n",
      "Epoch: 246, Loss: 10.410\n",
      "Epoch: 247, Loss: 10.530\n",
      "Epoch: 248, Loss: 7.625\n",
      "Epoch: 249, Loss: 15.037\n",
      "Epoch: 250, Loss: 11.789\n",
      "Epoch: 251, Loss: 9.008\n",
      "Epoch: 252, Loss: 5.238\n",
      "Epoch: 253, Loss: 13.008\n",
      "Epoch: 254, Loss: 5.436\n",
      "Epoch: 255, Loss: 5.950\n",
      "Epoch: 256, Loss: 14.270\n",
      "Epoch: 257, Loss: 7.075\n",
      "Epoch: 258, Loss: 7.464\n",
      "Epoch: 259, Loss: 9.162\n",
      "Epoch: 260, Loss: 11.506\n",
      "Epoch: 261, Loss: 6.788\n",
      "Epoch: 262, Loss: 8.666\n",
      "Epoch: 263, Loss: 6.126\n",
      "Epoch: 264, Loss: 8.287\n",
      "Epoch: 265, Loss: 7.574\n",
      "Epoch: 266, Loss: 6.138\n",
      "Epoch: 267, Loss: 5.764\n",
      "Epoch: 268, Loss: 8.191\n",
      "Epoch: 269, Loss: 6.424\n",
      "Epoch: 270, Loss: 14.521\n",
      "Epoch: 271, Loss: 8.721\n",
      "Epoch: 272, Loss: 11.137\n",
      "Epoch: 273, Loss: 9.574\n",
      "Epoch: 274, Loss: 12.103\n",
      "Epoch: 275, Loss: 6.535\n",
      "Epoch: 276, Loss: 10.367\n",
      "Epoch: 277, Loss: 5.290\n",
      "Epoch: 278, Loss: 16.146\n",
      "Epoch: 279, Loss: 7.435\n",
      "Epoch: 280, Loss: 8.718\n",
      "Epoch: 281, Loss: 14.179\n",
      "Epoch: 282, Loss: 13.592\n",
      "Epoch: 283, Loss: 9.781\n",
      "Epoch: 284, Loss: 6.854\n",
      "Epoch: 285, Loss: 11.947\n",
      "Epoch: 286, Loss: 6.460\n",
      "Epoch: 287, Loss: 11.592\n",
      "Epoch: 288, Loss: 8.501\n",
      "Epoch: 289, Loss: 10.967\n",
      "Epoch: 290, Loss: 7.108\n",
      "Epoch: 291, Loss: 8.144\n",
      "Epoch: 292, Loss: 9.171\n",
      "Epoch: 293, Loss: 12.308\n",
      "Epoch: 294, Loss: 8.636\n",
      "Epoch: 295, Loss: 8.978\n",
      "Epoch: 296, Loss: 14.185\n",
      "Epoch: 297, Loss: 6.942\n",
      "Epoch: 298, Loss: 5.420\n",
      "Epoch: 299, Loss: 12.509\n",
      "Epoch: 300, Loss: 11.916\n",
      "Epoch: 301, Loss: 9.231\n",
      "Epoch: 302, Loss: 11.732\n",
      "Epoch: 303, Loss: 11.109\n",
      "Epoch: 304, Loss: 9.652\n",
      "Epoch: 305, Loss: 5.575\n",
      "Epoch: 306, Loss: 10.757\n",
      "Epoch: 307, Loss: 19.276\n",
      "Epoch: 308, Loss: 6.355\n",
      "Epoch: 309, Loss: 4.933\n",
      "Epoch: 310, Loss: 9.167\n",
      "Epoch: 311, Loss: 14.183\n",
      "Epoch: 312, Loss: 7.540\n",
      "Epoch: 313, Loss: 9.801\n",
      "Epoch: 314, Loss: 6.610\n",
      "Epoch: 315, Loss: 9.417\n",
      "Epoch: 316, Loss: 5.520\n",
      "Epoch: 317, Loss: 6.619\n",
      "Epoch: 318, Loss: 15.558\n",
      "Epoch: 319, Loss: 8.680\n",
      "Epoch: 320, Loss: 8.266\n",
      "Epoch: 321, Loss: 6.523\n",
      "Epoch: 322, Loss: 5.707\n",
      "Epoch: 323, Loss: 8.184\n",
      "Epoch: 324, Loss: 10.185\n",
      "Epoch: 325, Loss: 8.806\n",
      "Epoch: 326, Loss: 12.104\n",
      "Epoch: 327, Loss: 6.886\n",
      "Epoch: 328, Loss: 12.626\n",
      "Epoch: 329, Loss: 9.987\n",
      "Epoch: 330, Loss: 9.071\n",
      "Epoch: 331, Loss: 6.116\n",
      "Epoch: 332, Loss: 10.219\n",
      "Epoch: 333, Loss: 7.354\n",
      "Epoch: 334, Loss: 7.470\n",
      "Epoch: 335, Loss: 7.928\n",
      "Epoch: 336, Loss: 9.799\n",
      "Epoch: 337, Loss: 7.451\n",
      "Epoch: 338, Loss: 7.529\n",
      "Epoch: 339, Loss: 8.494\n",
      "Epoch: 340, Loss: 5.104\n",
      "Epoch: 341, Loss: 11.848\n"
     ]
    },
    {
     "name": "stdout",
     "output_type": "stream",
     "text": [
      "Epoch: 342, Loss: 11.953\n",
      "Epoch: 343, Loss: 13.400\n",
      "Epoch: 344, Loss: 8.519\n",
      "Epoch: 345, Loss: 8.547\n",
      "Epoch: 346, Loss: 9.100\n",
      "Epoch: 347, Loss: 13.511\n",
      "Epoch: 348, Loss: 10.385\n",
      "Epoch: 349, Loss: 9.607\n",
      "Epoch: 350, Loss: 13.094\n",
      "Epoch: 351, Loss: 10.897\n",
      "Epoch: 352, Loss: 9.278\n",
      "Epoch: 353, Loss: 7.736\n",
      "Epoch: 354, Loss: 6.903\n",
      "Epoch: 355, Loss: 8.041\n",
      "Epoch: 356, Loss: 9.672\n",
      "Epoch: 357, Loss: 8.256\n",
      "Epoch: 358, Loss: 8.279\n",
      "Epoch: 359, Loss: 7.136\n",
      "Epoch: 360, Loss: 14.588\n",
      "Epoch: 361, Loss: 9.869\n",
      "Epoch: 362, Loss: 12.524\n",
      "Epoch: 363, Loss: 11.089\n",
      "Epoch: 364, Loss: 15.215\n",
      "Epoch: 365, Loss: 9.733\n",
      "Epoch: 366, Loss: 5.326\n",
      "Epoch: 367, Loss: 7.505\n",
      "Epoch: 368, Loss: 7.305\n",
      "Epoch: 369, Loss: 11.872\n",
      "Epoch: 370, Loss: 10.825\n",
      "Epoch: 371, Loss: 11.928\n",
      "Epoch: 372, Loss: 11.574\n",
      "Epoch: 373, Loss: 14.252\n",
      "Epoch: 374, Loss: 9.748\n",
      "Epoch: 375, Loss: 8.892\n",
      "Epoch: 376, Loss: 6.936\n",
      "Epoch: 377, Loss: 6.822\n",
      "Epoch: 378, Loss: 8.685\n",
      "Epoch: 379, Loss: 10.898\n",
      "Epoch: 380, Loss: 7.525\n",
      "Epoch: 381, Loss: 9.458\n",
      "Epoch: 382, Loss: 12.944\n",
      "Epoch: 383, Loss: 9.722\n",
      "Epoch: 384, Loss: 7.465\n",
      "Epoch: 385, Loss: 10.648\n",
      "Epoch: 386, Loss: 11.812\n",
      "Epoch: 387, Loss: 7.324\n",
      "Epoch: 388, Loss: 8.174\n",
      "Epoch: 389, Loss: 8.605\n",
      "Epoch: 390, Loss: 11.358\n",
      "Epoch: 391, Loss: 10.592\n",
      "Epoch: 392, Loss: 7.390\n",
      "Epoch: 393, Loss: 11.324\n",
      "Epoch: 394, Loss: 8.503\n",
      "Epoch: 395, Loss: 8.518\n",
      "Epoch: 396, Loss: 7.066\n",
      "Epoch: 397, Loss: 10.989\n",
      "Epoch: 398, Loss: 7.965\n",
      "Epoch: 399, Loss: 9.176\n",
      "Epoch: 400, Loss: 10.046\n",
      "Epoch: 401, Loss: 7.160\n",
      "Epoch: 402, Loss: 9.916\n",
      "Epoch: 403, Loss: 8.532\n",
      "Epoch: 404, Loss: 11.681\n",
      "Epoch: 405, Loss: 8.337\n",
      "Epoch: 406, Loss: 7.881\n",
      "Epoch: 407, Loss: 10.830\n",
      "Epoch: 408, Loss: 11.373\n",
      "Epoch: 409, Loss: 9.128\n",
      "Epoch: 410, Loss: 6.270\n",
      "Epoch: 411, Loss: 9.261\n",
      "Epoch: 412, Loss: 9.642\n",
      "Epoch: 413, Loss: 8.751\n",
      "Epoch: 414, Loss: 10.114\n",
      "Epoch: 415, Loss: 8.853\n",
      "Epoch: 416, Loss: 8.024\n",
      "Epoch: 417, Loss: 8.471\n",
      "Epoch: 418, Loss: 7.876\n",
      "Epoch: 419, Loss: 8.130\n",
      "Epoch: 420, Loss: 6.144\n",
      "Epoch: 421, Loss: 7.912\n",
      "Epoch: 422, Loss: 12.433\n",
      "Epoch: 423, Loss: 7.493\n",
      "Epoch: 424, Loss: 15.050\n",
      "Epoch: 425, Loss: 12.133\n",
      "Epoch: 426, Loss: 7.740\n",
      "Epoch: 427, Loss: 8.885\n",
      "Epoch: 428, Loss: 11.160\n",
      "Epoch: 429, Loss: 8.582\n",
      "Epoch: 430, Loss: 7.593\n",
      "Epoch: 431, Loss: 13.088\n",
      "Epoch: 432, Loss: 9.206\n",
      "Epoch: 433, Loss: 12.343\n",
      "Epoch: 434, Loss: 11.261\n",
      "Epoch: 435, Loss: 10.991\n",
      "Epoch: 436, Loss: 7.527\n",
      "Epoch: 437, Loss: 12.785\n",
      "Epoch: 438, Loss: 10.119\n",
      "Epoch: 439, Loss: 9.207\n",
      "Epoch: 440, Loss: 10.283\n",
      "Epoch: 441, Loss: 9.537\n",
      "Epoch: 442, Loss: 11.258\n",
      "Epoch: 443, Loss: 6.440\n",
      "Epoch: 444, Loss: 12.680\n",
      "Epoch: 445, Loss: 5.890\n",
      "Epoch: 446, Loss: 9.461\n",
      "Epoch: 447, Loss: 9.436\n",
      "Epoch: 448, Loss: 10.197\n",
      "Epoch: 449, Loss: 6.274\n",
      "Epoch: 450, Loss: 10.249\n",
      "Epoch: 451, Loss: 10.693\n",
      "Epoch: 452, Loss: 13.895\n",
      "Epoch: 453, Loss: 7.507\n",
      "Epoch: 454, Loss: 11.346\n",
      "Epoch: 455, Loss: 13.346\n",
      "Epoch: 456, Loss: 7.175\n",
      "Epoch: 457, Loss: 9.873\n",
      "Epoch: 458, Loss: 10.791\n",
      "Epoch: 459, Loss: 8.036\n",
      "Epoch: 460, Loss: 8.565\n",
      "Epoch: 461, Loss: 13.629\n",
      "Epoch: 462, Loss: 11.917\n",
      "Epoch: 463, Loss: 10.776\n",
      "Epoch: 464, Loss: 9.640\n",
      "Epoch: 465, Loss: 13.122\n",
      "Epoch: 466, Loss: 12.044\n",
      "Epoch: 467, Loss: 5.800\n",
      "Epoch: 468, Loss: 7.451\n",
      "Epoch: 469, Loss: 13.107\n",
      "Epoch: 470, Loss: 6.965\n",
      "Epoch: 471, Loss: 11.658\n",
      "Epoch: 472, Loss: 8.077\n",
      "Epoch: 473, Loss: 13.389\n",
      "Epoch: 474, Loss: 10.368\n",
      "Epoch: 475, Loss: 15.883\n",
      "Epoch: 476, Loss: 8.740\n",
      "Epoch: 477, Loss: 8.188\n",
      "Epoch: 478, Loss: 9.725\n",
      "Epoch: 479, Loss: 10.601\n",
      "Epoch: 480, Loss: 5.753\n",
      "Epoch: 481, Loss: 11.537\n",
      "Epoch: 482, Loss: 8.168\n",
      "Epoch: 483, Loss: 14.631\n",
      "Epoch: 484, Loss: 9.794\n",
      "Epoch: 485, Loss: 7.639\n",
      "Epoch: 486, Loss: 10.825\n",
      "Epoch: 487, Loss: 7.206\n",
      "Epoch: 488, Loss: 13.088\n",
      "Epoch: 489, Loss: 12.673\n",
      "Epoch: 490, Loss: 8.919\n",
      "Epoch: 491, Loss: 10.560\n",
      "Epoch: 492, Loss: 9.671\n",
      "Epoch: 493, Loss: 19.779\n",
      "Epoch: 494, Loss: 9.231\n",
      "Epoch: 495, Loss: 7.412\n",
      "Epoch: 496, Loss: 10.416\n",
      "Epoch: 497, Loss: 9.520\n",
      "Epoch: 498, Loss: 6.012\n",
      "Epoch: 499, Loss: 10.682\n",
      "Epoch: 500, Loss: 7.427\n"
     ]
    }
   ],
   "source": [
    "##cite : 'https://scikit-learn.org/stable/modules/generated/sklearn.linear_model.SGDRegressor.html' - for learning rate \n",
    "##cite : 'https://machinelearningmastery.com/implement-linear-regression-stochastic-gradient-descent-scratch-python/'\n",
    "\n",
    "w_coeff=np.random.randn(13,1) #Randomly initalizing weights\n",
    "b_coeff=np.random.randn(1,1)  #Randomly picking up intercept value.\n",
    "n_epochs = 500\n",
    "lr_rate = 1\n",
    "k_sample = 160\n",
    "for epoch in range(1,n_epochs+1):\n",
    "    sum_errors = 0 #Sum of squared loss.\n",
    "    N = X_train.shape[0] #The variable N in the SGD equation.\n",
    "\n",
    "    for i in range(k_sample):                                       \n",
    "        train_sample = train_df.sample(k_sample)                    ## Sampling K points \n",
    "        Y_sample = np.asmatrix(train_sample[\"PRICE\"]).T\n",
    "        X_sample = np.asmatrix(train_sample.drop(\"PRICE\", axis = 1))\n",
    "\n",
    "        X_i = X_sample[i,:].reshape(1,X_train.shape[1])\n",
    "        y_i = Y_sample[i].reshape(-1,1)\n",
    "\n",
    "\n",
    "        y_pred = np.dot(X_i,w_coeff) + b_coeff                  #y_curr = WT.X + B\n",
    "        loss = y_pred - y_i                                     #w_grad = (-2/N)*(X)*(y-(WT.X+B)) = (-2/N)*(X) * loss \n",
    "        sum_errors += loss**2                                   #b_grad = (-2/N)*(y-(WT.X+B)) = (-2/N) * loss\n",
    "\n",
    "        w_grad = X_i.T.dot((y_pred - y_i))\n",
    "        b_grad = (y_pred - y_i)\n",
    "\n",
    "        w_coeff = w_coeff -(2/N)*lr_rate*(w_grad)\n",
    "        b_coeff = b_coeff - (2/N)*lr_rate*(b_grad)\n",
    "\n",
    "    print(\"Epoch: %d, Loss: %.3f\" %(epoch, sum_errors/N))\n",
    "    #lr_rate = lr_rate/3.2\n",
    "    lr_rate = lr_rate / pow(epoch, 0.25)             ## Learning rate based on Sklearn's SGD Regressor\n",
    "\n",
    "    "
   ]
  },
  {
   "cell_type": "code",
   "execution_count": 9,
   "metadata": {},
   "outputs": [],
   "source": [
    "X_test=np.array(X_test)\n",
    "y_pred =[]\n",
    "for i in range(0,len(X_test)):\n",
    "    y=np.asscalar(np.dot(w_coeff.T,X_test[i]) + b_coeff) #Convert an array of size 1 to its scalar equivalent.\n",
    "    y_pred.append(y)"
   ]
  },
  {
   "cell_type": "code",
   "execution_count": 10,
   "metadata": {},
   "outputs": [
    {
     "name": "stdout",
     "output_type": "stream",
     "text": [
      "20.18234583760414\n"
     ]
    }
   ],
   "source": [
    "print(mean_squared_error(Y_test, y_pred))"
   ]
  },
  {
   "cell_type": "code",
   "execution_count": 11,
   "metadata": {},
   "outputs": [
    {
     "data": {
      "image/png": "[encoded data removed]",
      "text/plain": [
       "<Figure size 576x576 with 1 Axes>"
      ]
     },
     "metadata": {
      "needs_background": "light"
     },
     "output_type": "display_data"
    }
   ],
   "source": [
    "plt.figure(figsize=(8,8))\n",
    "plt.grid()\n",
    "plt.scatter(Y_test,y_pred)\n",
    "plt.xlabel(\"Actual Y\")\n",
    "plt.ylabel(\"Predicted Y\")\n",
    "plt.show()"
   ]
  },
  {
   "cell_type": "code",
   "execution_count": 12,
   "metadata": {},
   "outputs": [
    {
     "data": {
      "image/png": "[encoded data removed]",
      "text/plain": [
       "<Figure size 864x864 with 1 Axes>"
      ]
     },
     "metadata": {
      "needs_background": "light"
     },
     "output_type": "display_data"
    }
   ],
   "source": [
    "plt.figure(figsize=(12,12))\n",
    "plt.grid()\n",
    "sns.distplot(Y_test,label = \"Actual Y\", color = 'red')\n",
    "sns.distplot(y_pred,label = \"Predicted Y\", color = 'blue')\n",
    "plt.legend()\n",
    "plt.show()"
   ]
  },
  {
   "cell_type": "markdown",
   "metadata": {},
   "source": [
    "### 4. Implementing SGD Regressor Sk Learn"
   ]
  },
  {
   "cell_type": "code",
   "execution_count": 13,
   "metadata": {
    "colab": {
     "base_uri": "https://localhost:8080/",
     "height": 34
    },
    "colab_type": "code",
    "executionInfo": {
     "elapsed": 879,
     "status": "ok",
     "timestamp": 1545718892607,
     "user": {
      "displayName": "Applied AI Course",
      "photoUrl": "https://lh5.googleusercontent.com/-9_3A9F-kDXs/AAAAAAAAAAI/AAAAAAAAACw/IprjYvUuoXQ/s64/photo.jpg",
      "userId": "00484516897554883881"
     },
     "user_tz": -330
    },
    "id": "HNu1sXtEBBS2",
    "outputId": "a0c5d3d0-345c-4a34-8ccf-0d9f3d7d23fd"
   },
   "outputs": [
    {
     "name": "stdout",
     "output_type": "stream",
     "text": [
      "20.469195875801002\n",
      "[-0.82045479  0.67556622 -0.35006314  0.84354443 -0.95867138  2.81238863\n",
      "  0.22636296 -1.83833383  1.17549192 -0.40505883 -1.84903012  0.9919517\n",
      " -3.90894202]\n"
     ]
    },
    {
     "name": "stderr",
     "output_type": "stream",
     "text": [
      "C:\\Users\\Sagar\\Anaconda3\\lib\\site-packages\\sklearn\\utils\\validation.py:761: DataConversionWarning: A column-vector y was passed when a 1d array was expected. Please change the shape of y to (n_samples, ), for example using ravel().\n",
      "  y = column_or_1d(y, warn=True)\n"
     ]
    }
   ],
   "source": [
    "clf = SGDRegressor()\n",
    "clf.fit(X_train, Y_train)\n",
    "print(mean_squared_error(Y_test, clf.predict(X_test)))\n",
    "print(clf.coef_)"
   ]
  },
  {
   "cell_type": "code",
   "execution_count": 14,
   "metadata": {},
   "outputs": [
    {
     "data": {
      "image/png": "[encoded data removed]",
      "text/plain": [
       "<Figure size 576x576 with 1 Axes>"
      ]
     },
     "metadata": {
      "needs_background": "light"
     },
     "output_type": "display_data"
    }
   ],
   "source": [
    "plt.figure(figsize=(8,8))\n",
    "plt.grid()\n",
    "plt.scatter(Y_test,clf.predict(X_test))\n",
    "plt.xlabel(\"Actual Y\")\n",
    "plt.ylabel(\"Predicted Y\")\n",
    "plt.show()"
   ]
  },
  {
   "cell_type": "code",
   "execution_count": 15,
   "metadata": {},
   "outputs": [
    {
     "data": {
      "image/png": "[encoded data removed]",
      "text/plain": [
       "<Figure size 864x864 with 1 Axes>"
      ]
     },
     "metadata": {
      "needs_background": "light"
     },
     "output_type": "display_data"
    }
   ],
   "source": [
    "plt.figure(figsize=(12,12))\n",
    "plt.grid()\n",
    "sns.distplot(Y_test,label = \"Actual Y\", color = 'red')\n",
    "sns.distplot(clf.predict(X_test),label = \"Predicted Y\", color = 'blue')\n",
    "plt.legend()\n",
    "plt.show()"
   ]
  },
  {
   "cell_type": "markdown",
   "metadata": {},
   "source": [
    "### 5. Implementing Sk Learn's Linear Regression"
   ]
  },
  {
   "cell_type": "code",
   "execution_count": 16,
   "metadata": {},
   "outputs": [
    {
     "name": "stdout",
     "output_type": "stream",
     "text": [
      "20.869292183770817\n"
     ]
    }
   ],
   "source": [
    "from sklearn.linear_model import LinearRegression\n",
    "import warnings\n",
    "warnings.filterwarnings(\"ignore\")\n",
    "\n",
    "#Fit the LinearRegression() model to the training data and Predict the class labels of the test data.\n",
    "model = LinearRegression()\n",
    "model.fit(X_train , Y_train ) \n",
    "print(mean_squared_error(Y_test, model.predict(X_test)))"
   ]
  },
  {
   "cell_type": "code",
   "execution_count": 17,
   "metadata": {},
   "outputs": [
    {
     "data": {
      "image/png": "[encoded data removed]",
      "text/plain": [
       "<Figure size 576x576 with 1 Axes>"
      ]
     },
     "metadata": {
      "needs_background": "light"
     },
     "output_type": "display_data"
    }
   ],
   "source": [
    "plt.figure(figsize=(8,8))\n",
    "plt.grid()\n",
    "plt.scatter(Y_test,model.predict(X_test))\n",
    "plt.xlabel(\"Actual Y\")\n",
    "plt.ylabel(\"Predicted Y\")\n",
    "plt.show()"
   ]
  },
  {
   "cell_type": "code",
   "execution_count": 18,
   "metadata": {},
   "outputs": [
    {
     "data": {
      "image/png": "[encoded data removed]",
      "text/plain": [
       "<Figure size 864x864 with 1 Axes>"
      ]
     },
     "metadata": {
      "needs_background": "light"
     },
     "output_type": "display_data"
    }
   ],
   "source": [
    "plt.figure(figsize=(12,12))\n",
    "plt.grid()\n",
    "sns.distplot(Y_test,label = \"Actual Y\", color = 'red')\n",
    "sns.distplot(model.predict(X_test),label = \"Predicted Y\", color = 'blue')\n",
    "plt.legend()\n",
    "plt.show()"
   ]
  },
  {
   "cell_type": "markdown",
   "metadata": {},
   "source": [
    "### 6. Comparison of self implemented SGD with sklearn SGD "
   ]
  },
  {
   "cell_type": "code",
   "execution_count": 19,
   "metadata": {},
   "outputs": [
    {
     "name": "stdout",
     "output_type": "stream",
     "text": [
      "+-----------------------+----------------------+--------------------------+\n",
      "| Weights from Sk Learn |   Weights from LR    | Self implemented weights |\n",
      "+-----------------------+----------------------+--------------------------+\n",
      "|  -0.8204547915623558  | -1.1350271893464843  |      [-0.72024292]       |\n",
      "|   0.6755662209041208  |  1.1581452705247033  |       [0.54197714]       |\n",
      "|  -0.35006314312850323 | 0.00737057333182942  |       [0.25589672]       |\n",
      "|   0.8435444296077227  |  0.6870963456917102  |       [0.59388363]       |\n",
      "|  -0.9586713768495976  | -1.8283700073391242  |      [-1.19776684]       |\n",
      "|   2.812388626381978   |  2.362718789090427   |       [3.12519472]       |\n",
      "|  0.22636296197895603  | 0.031665377982249276 |      [-0.19503754]       |\n",
      "|  -1.8383338328935648  |  -3.066327745654661  |      [-1.95649617]       |\n",
      "|   1.1754919246231517  |  3.1662148208383147  |       [0.29313923]       |\n",
      "|  -0.4050588303292087  | -2.2145785213149654  |       [-0.1617005]       |\n",
      "|  -1.8490301233825732  |  -2.086008756080754  |      [-1.91730929]       |\n",
      "|   0.9919517019683963  |  1.0449510971030203  |       [1.1021239]        |\n",
      "|   -3.908942020650709  |  -4.176270772645377  |      [-3.39694069]       |\n",
      "+-----------------------+----------------------+--------------------------+\n"
     ]
    }
   ],
   "source": [
    "from prettytable import PrettyTable\n",
    "pt = PrettyTable([\"Weights from Sk Learn\",\"Weights from LR\",\"Self implemented weights\"])\n",
    "for i in range(len(w_coeff)):\n",
    "    pt.add_row([clf.coef_[i],model.coef_.item(i),w_coeff.item(i)])\n",
    "\n",
    "print(pt)"
   ]
  },
  {
   "cell_type": "code",
   "execution_count": 20,
   "metadata": {},
   "outputs": [
    {
     "name": "stdout",
     "output_type": "stream",
     "text": [
      "+------------------------------+----------------------------+-----------------------------------------+\n",
      "| Intercept from Sk Learn SGDR | Intercept from Sk Learn LR | Intercept from Self implemented weights |\n",
      "+------------------------------+----------------------------+-----------------------------------------+\n",
      "|        [22.30728675]         |       [22.64678218]        |              [21.87888196]              |\n",
      "+------------------------------+----------------------------+-----------------------------------------+\n"
     ]
    }
   ],
   "source": [
    "pt = PrettyTable([\"Intercept from Sk Learn SGDR\",\"Intercept from Sk Learn LR\", \"Intercept from Self implemented weights\"])\n",
    "pt.add_row([clf.intercept_,model.intercept_,b_coeff.item(0)])\n",
    "\n",
    "print(pt)"
   ]
  },
  {
   "cell_type": "code",
   "execution_count": 21,
   "metadata": {},
   "outputs": [
    {
     "name": "stdout",
     "output_type": "stream",
     "text": [
      "+------------------------+----------------------+-----------------------------------+\n",
      "| MSE from Sk Learn SGDR | MSE from Sk Learn LR | MSE from Self implemented weights |\n",
      "+------------------------+----------------------+-----------------------------------+\n",
      "|   20.469195875801002   |  20.869292183770817  |         20.18234583760414         |\n",
      "+------------------------+----------------------+-----------------------------------+\n"
     ]
    }
   ],
   "source": [
    "pt = PrettyTable([\"MSE from Sk Learn SGDR\",\"MSE from Sk Learn LR\" ,\"MSE from Self implemented weights\"])\n",
    "pt.add_row([mean_squared_error(Y_test, clf.predict(X_test)),mean_squared_error(Y_test, model.predict(X_test)),mean_squared_error(Y_test, y_pred)])\n",
    "print(pt)"
   ]
  },
  {
   "cell_type": "markdown",
   "metadata": {},
   "source": [
    "### 7. Conclusion"
   ]
  },
  {
   "cell_type": "markdown",
   "metadata": {},
   "source": [
    "1. MSE from both sk learn's model are almost same.\n",
    "2. MSE from custom implementation is very close to both of the sk learn models.\n",
    "3. From the pdfs we can see that the predicted values for all 3 models are similar to each other."
   ]
  }
 ],
 "metadata": {
  "colab": {
   "name": "Untitled3.ipynb",
   "provenance": [],
   "version": "0.3.2"
  },
  "kernelspec": {
   "display_name": "Python 3",
   "language": "python",
   "name": "python3"
  },
  "language_info": {
   "codemirror_mode": {
    "name": "ipython",
    "version": 3
   },
   "file_extension": ".py",
   "mimetype": "text/x-python",
   "name": "python",
   "nbconvert_exporter": "python",
   "pygments_lexer": "ipython3",
   "version": "3.7.1"
  }
 },
 "nbformat": 4,
 "nbformat_minor": 1
}
